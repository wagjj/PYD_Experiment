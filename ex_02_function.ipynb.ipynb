{
 "cells": [
  {
   "cell_type": "code",
   "execution_count": 9,
   "metadata": {},
   "outputs": [
    {
     "name": "stdout",
     "output_type": "stream",
     "text": [
      "请输入各段轴力(单位:kN)：10\n",
      "请输入各段长度(单位:m)：1\n",
      "轴向变形： 0.05 mm\n",
      "线应变： 5e-05\n"
     ]
    }
   ],
   "source": [
    "#已知杆的横截面积为1000平方毫米，材料弹性模量E=2*10E5MPa,求在不同轴力大小下，杆各段的轴向变形和线应变。\n",
    "def Axial_deformation(shaft_force,segment_length): #shaft_force为轴力，segment_length为各段长度，Axial_deformation为轴向形变\n",
    "    Axial_deformation=0\n",
    "    Axial_deformation=(shaft_force*segment_length)/(2*(10E4))  \n",
    "    return Axial_deformation  #根据各段轴力，求轴向形变Axial_deformation\n",
    "\n",
    "def line_strain(Axial_deformation,segment_length):#line_strain为线应变\n",
    "    line_strain=Axial_deformation/segment_length\n",
    "    return line_strain #定义一个泛化函数，求得线应变line_strain\n",
    "\n",
    "shaft_force=float(input(\"请输入各段轴力(单位:kN)：\")) #正负只代表方向，不代表大小\n",
    "segment_length=float(input(\"请输入各段长度(单位:m)：\")) #为正才有意义\n",
    "print('轴向变形：',(Axial_deformation(shaft_force,segment_length))*1000,'mm')  #求得轴向形变\n",
    "\n",
    "Axial_deformation=(Axial_deformation(shaft_force,segment_length)) \n",
    "print('线应变：',(line_strain(Axial_deformation,segment_length))) #求得线应变"
   ]
  },
  {
   "cell_type": "code",
   "execution_count": null,
   "metadata": {},
   "outputs": [],
   "source": []
  },
  {
   "cell_type": "code",
   "execution_count": null,
   "metadata": {},
   "outputs": [],
   "source": [
    "10"
   ]
  }
 ],
 "metadata": {
  "kernelspec": {
   "display_name": "Python 3",
   "language": "python",
   "name": "python3"
  },
  "language_info": {
   "codemirror_mode": {
    "name": "ipython",
    "version": 3
   },
   "file_extension": ".py",
   "mimetype": "text/x-python",
   "name": "python",
   "nbconvert_exporter": "python",
   "pygments_lexer": "ipython3",
   "version": "3.8.5"
  }
 },
 "nbformat": 4,
 "nbformat_minor": 4
}
