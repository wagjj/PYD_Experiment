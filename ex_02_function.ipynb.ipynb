{
 "cells": [
  {
   "cell_type": "code",
   "execution_count": 35,
   "metadata": {},
   "outputs": [
    {
     "name": "stdin",
     "output_type": "stream",
     "text": [
      "请输入各段轴力(单位:kN)： 10\n",
      "请输入各段长度(单位:m)： 1\n"
     ]
    },
    {
     "name": "stdout",
     "output_type": "stream",
     "text": [
      "0.05 mm\n",
      "5e-05\n"
     ]
    }
   ],
   "source": [
    "#已知杆的横截面积为1000平方毫米，材料弹性模量E=2*10E5MPa,求在不同轴力大小下，杆各段的轴向变形和线应变。\n",
    "def func(force,length): #force为轴力。length为各段长度\n",
    "    l=0\n",
    "    l=(force*length)/(2*(10E4))  \n",
    "    return l  #根据各段轴力，求轴向形变\n",
    "\n",
    "def f(l,length):\n",
    "    e=l/length\n",
    "    return e #定义一个泛化函数，求得线应变\n",
    "\n",
    "force=float(input(\"请输入各段轴力(单位:kN)：\")) #正负只代表方向，不代表大小\n",
    "length=float(input(\"请输入各段长度(单位:m)：\")) #为正才有意义\n",
    "print((func(force,length))*1000,'mm')  #求得轴向形变\n",
    "\n",
    "l=(func(force,length)) \n",
    "print((f(l,length))) #求得线应变"
   ]
  },
  {
   "cell_type": "code",
   "execution_count": null,
   "metadata": {},
   "outputs": [],
   "source": []
  }
 ],
 "metadata": {
  "kernelspec": {
   "display_name": "Python 3",
   "language": "python",
   "name": "python3"
  },
  "language_info": {
   "codemirror_mode": {
    "name": "ipython",
    "version": 3
   },
   "file_extension": ".py",
   "mimetype": "text/x-python",
   "name": "python",
   "nbconvert_exporter": "python",
   "pygments_lexer": "ipython3",
   "version": "3.8.5"
  }
 },
 "nbformat": 4,
 "nbformat_minor": 4
}
