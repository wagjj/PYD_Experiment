#已知杆的横截面积为1000平方毫米，材料弹性模量E=2*10E5MPa,求在不同轴力大小下，杆各段的轴向变形和线应变。

def func(a,b):
    l=0
    l=(a*b)/(2*(10E4))
    return l

def f(l,b):
    e=l/b
    return e

a=float(input("请输入各段轴力(单位:kN)："))
b=float(input("请输入各段长度(单位:m)："))
print((func(a,b))*1000,'mm')

l=(func(a,b))
print((f(l,b)))